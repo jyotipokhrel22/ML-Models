{
 "cells": [
  {
   "cell_type": "markdown",
   "id": "4e66d110-8314-4c0a-92f8-0feb453bda6a",
   "metadata": {},
   "source": [
    "# Building linear regression from scratch"
   ]
  },
  {
   "cell_type": "code",
   "execution_count": 13,
   "id": "57297021-2b65-421a-9c5c-2389d53a3c11",
   "metadata": {},
   "outputs": [],
   "source": [
    "# Importing the dependencies\n",
    "\n",
    "import numpy as np"
   ]
  },
  {
   "cell_type": "code",
   "execution_count": 19,
   "id": "1bf6016a-6ed3-42a2-9aef-877872fcb343",
   "metadata": {},
   "outputs": [],
   "source": [
    "class Linear_Regression:\n",
    "\n",
    "    #initiating the hyperparameters(learning rate & number of iterations)\n",
    "    \n",
    "    def __init__(self, learning_rate, no_of_iterations):\n",
    "        \n",
    "        self.learning_rate = learning_rate\n",
    "        self.no_of_iterations = no_of_iterations\n",
    "\n",
    "    # fit functions to train the model\n",
    "\n",
    "    def fit(self, X, Y):\n",
    "\n",
    "        # Number of training examples & number of features\n",
    "\n",
    "        self.m, self.n = X.shape # no. of rows and columns\n",
    "        \n",
    "        # initiating the weights and biases\n",
    "\n",
    "        self.w = np.zeros(self.n) # model has many features(n)\n",
    "        self.b = 0                # model has only one bias\n",
    "        self.X = X\n",
    "        self.Y = Y\n",
    "\n",
    "        # implementing gradient descent for optimization\n",
    "\n",
    "        for i in range (self.no_of_iterations):\n",
    "            self.update_weights()\n",
    "\n",
    "\n",
    "    # functions to update weights using gradient descent\n",
    "        \n",
    "    def update_weights(self):\n",
    "\n",
    "            Y_Prediction = self.predict(self.X)\n",
    "\n",
    "            # Calculate the gradients\n",
    "\n",
    "            dw = - (2 * (self.X.T).dot(self.Y - Y_prediction)) / self.m\n",
    "\n",
    "            db = - 2 * np.sum(self.Y - Y_prediction) / self.m\n",
    "\n",
    "            # Updating the weights\n",
    "\n",
    "            self.w = self.w - self.learning_rate * dw\n",
    "            self.b = self.b - self.learning_rate * db\n",
    "\n",
    "    # Line function for prediction\n",
    "            \n",
    "    def predict(self, X):\n",
    "\n",
    "        X.dot(self.w) + self.b\n"
   ]
  }
 ],
 "metadata": {
  "kernelspec": {
   "display_name": "Python 3 (ipykernel)",
   "language": "python",
   "name": "python3"
  },
  "language_info": {
   "codemirror_mode": {
    "name": "ipython",
    "version": 3
   },
   "file_extension": ".py",
   "mimetype": "text/x-python",
   "name": "python",
   "nbconvert_exporter": "python",
   "pygments_lexer": "ipython3",
   "version": "3.12.7"
  }
 },
 "nbformat": 4,
 "nbformat_minor": 5
}
