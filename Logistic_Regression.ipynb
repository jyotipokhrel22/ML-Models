{
 "cells": [
  {
   "cell_type": "markdown",
   "id": "75f9e19f-4b96-473c-a51a-d1617633d4ca",
   "metadata": {
    "editable": true,
    "slideshow": {
     "slide_type": ""
    },
    "tags": []
   },
   "source": [
    "# Building and implementing logistic regression from scratch    "
   ]
  },
  {
   "cell_type": "code",
   "execution_count": 18,
   "id": "9867cc0e-47b6-4ed3-b562-ae291ba39f80",
   "metadata": {},
   "outputs": [],
   "source": [
    "# Importing the dependencies\n",
    "\n",
    "import numpy as np"
   ]
  },
  {
   "cell_type": "markdown",
   "id": "c6620a79-94ad-469c-b27b-981afd683801",
   "metadata": {},
   "source": [
    "Logistic Regression "
   ]
  },
  {
   "cell_type": "code",
   "execution_count": 21,
   "id": "aa85d588-8e76-4e13-8d03-7af280e3d626",
   "metadata": {},
   "outputs": [],
   "source": [
    "class Logistic_regression():\n",
    "\n",
    "    # declaring the learning rate and no. of iterations(hyperparameters)\n",
    "    def __init__(self, learning_rate, no_of_iterations):\n",
    "        self.learning_rate = learning_rate\n",
    "        self.no_of_iteration = no_of_iterations\n",
    "\n",
    "    #fit function to train the model with some dataset\n",
    "    def fit(self, X, Y):\n",
    "        # number of data points in the dataset (number of rows)  -->  m\n",
    "        # number of input features in the dataset (number of columns)  --> n\n",
    "        self.m, self.n = X.shape\n",
    "\n",
    "        # initiating weight and bias value\n",
    "        self.w = np.zeros(self.n) # numpy array with zeros with shape of n\n",
    "        self.b = 0\n",
    "        self.X = X\n",
    "        self.Y = Y\n",
    "\n",
    "        # gradient descent for optimization\n",
    "        for i in range (self.no_of_iterations):\n",
    "            self.update_weights()\n",
    "\n",
    "    def update_weights(self):\n",
    "\n",
    "        # Y hat formula(sigmoid function)\n",
    "        Y_hat = 1 / (1 + np.exp(- (self.X.dot(self.w) + self.b))) # wx + b\n",
    "\n",
    "        # derivatives\n",
    "        dw = 1 / self.m * np.dot(self.X.T, (Y_hat - self.Y))\n",
    "        \n",
    "        db = 1 / self.m * np.sum(Y_hat - self.Y)\n",
    "\n",
    "        # updating the weights and bias using gradient descent \n",
    "\n",
    "        self.w = self.w - self.learning_rate * dw\n",
    "        self.b = self.b - self.learning_rate * db\n",
    "\n",
    "    # writing the sigmoid equation and the decision boundary\n",
    "    def predict(self):\n",
    "\n",
    "        Y_pred = 1 / (1 + np.exp(- (self.X.dot(self.w) + self.b)))\n",
    "        Y_pred = np.where(Y_pred > 0.5, 1, 0)\n",
    "        return Y\n",
    "    "
   ]
  }
 ],
 "metadata": {
  "kernelspec": {
   "display_name": "Python 3 (ipykernel)",
   "language": "python",
   "name": "python3"
  },
  "language_info": {
   "codemirror_mode": {
    "name": "ipython",
    "version": 3
   },
   "file_extension": ".py",
   "mimetype": "text/x-python",
   "name": "python",
   "nbconvert_exporter": "python",
   "pygments_lexer": "ipython3",
   "version": "3.12.7"
  }
 },
 "nbformat": 4,
 "nbformat_minor": 5
}
